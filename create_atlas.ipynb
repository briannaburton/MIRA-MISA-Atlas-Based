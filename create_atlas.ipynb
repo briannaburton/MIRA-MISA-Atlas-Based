{
 "cells": [
  {
   "cell_type": "heading",
   "metadata": {
    "collapsed": true
   },
   "level": 1,
   "source": [
    "Create the Atlas"
   ]
  },
  {
   "cell_type": "heading",
   "metadata": {},
   "level": 2,
   "source": [
    "Import the registered nii files and create the atlas for WM, GM, and CSF"
   ]
  },
  {
   "cell_type": "code",
   "execution_count": 2,
   "metadata": {},
   "outputs": [],
   "source": [
    "from os import listdir\n",
    "from os.path import isdir, join\n",
    "import numpy as np\n",
    "import nibabel as nib\n",
    "import matplotlib.pyplot as plt\n",
    "%matplotlib inline"
   ]
  },
  {
   "cell_type": "code",
   "execution_count": 7,
   "metadata": {},
   "outputs": [],
   "source": [
    "def show_slice(img, slice_no):\n",
    "    \"\"\"\n",
    "        Inputs: img (nibabel): image name\n",
    "                slice_no (np slice): np.s_[:, 30, :]\n",
    "        \"\"\"\n",
    "    data = img.get_fdata()\n",
    "    plt.figure()\n",
    "    plt.imshow(data[slice_no].T, cmap='gray')\n",
    "    plt.show()"
   ]
  },
  {
   "cell_type": "code",
   "execution_count": 58,
   "metadata": {},
   "outputs": [
    {
     "name": "stdout",
     "output_type": "stream",
     "text": [
      "(256, 287, 256)\n"
     ]
    }
   ],
   "source": [
    "# Set path to labels folder and import transformed labels into python\n",
    "data_dir = \"./training-set/registration-results/transformed_labels/\"\n",
    "onlydirs = [f for f in listdir(data_dir) if isdir(join(data_dir, f))]\n",
    "\n",
    "# Arrays to store the label counts\n",
    "CSF_im = np.zeros_like(labels_data)\n",
    "WM_im = np.zeros_like(labels_data)\n",
    "GM_im = np.zeros_like(labels_data)\n",
    "temp_CSF_im = np.zeros_like(labels_data)\n",
    "temp_WM_im = np.zeros_like(labels_data)\n",
    "temp_GM_im = np.zeros_like(labels_data)\n",
    "\n",
    "# Key the labels already in the files\n",
    "CSF_label = 1\n",
    "GM_label = 2\n",
    "WM_label = 3\n",
    "\n",
    "# Import each label and create a label maps\n",
    "for dir in onlydirs:\n",
    "    labels = os.path.join(data_dir, dir,'result.nii')\n",
    "    labels_img = nib.load(labels)\n",
    "    labels_data = labels_img.get_data()\n",
    "    \n",
    "    #Assign CSF to 1\n",
    "    temp_CSF_im[labels_data == CSF_label] = 1\n",
    "    #Assign GM to 2\n",
    "    temp_GM_im[labels_data == GM_label] = 1\n",
    "    #Assign WM to 1\n",
    "    temp_WM_im[labels_data == WM_label] = 1\n",
    "    \n",
    "    CSF_im = CSF_im + temp_CSF_im\n",
    "    GM_im = GM_im + temp_GM_im\n",
    "    WM_im = WM_im + temp_WM_im\n",
    "    \n",
    "# For each array, count the occurences and find the probability\n",
    "tot_im = CSF_im + GM_im + WM_im\n",
    "print(tot_im.shape)\n",
    "CSF_probs = np.divide(CSF_im, tot_im)\n",
    "CSF_probs = np.nan_to_num(CSF_probs)\n",
    "GM_probs = np.divide(GM_im, tot_im)\n",
    "GM_probs = np.nan_to_num(GM_probs)\n",
    "WM_probs = np.divide(WM_im, tot_im)\n",
    "WM_probs = np.nan_to_num(WM_probs)"
   ]
  }
 ],
 "metadata": {
  "kernelspec": {
   "display_name": "Python 2",
   "language": "python",
   "name": "python2"
  },
  "language_info": {
   "codemirror_mode": {
    "name": "ipython",
    "version": 2
   },
   "file_extension": ".py",
   "mimetype": "text/x-python",
   "name": "python",
   "nbconvert_exporter": "python",
   "pygments_lexer": "ipython2",
   "version": "2.7.6"
  }
 },
 "nbformat": 4,
 "nbformat_minor": 0
}
