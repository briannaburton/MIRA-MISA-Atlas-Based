{
 "cells": [
  {
   "cell_type": "markdown",
   "metadata": {},
   "source": [
    "# Atlas with Histogram"
   ]
  },
  {
   "cell_type": "code",
   "execution_count": 1,
   "metadata": {},
   "outputs": [],
   "source": [
    "from os import listdir\n",
    "from os.path import isdir, join\n",
    "import os\n",
    "import numpy as np\n",
    "import nibabel as nib\n",
    "import matplotlib.pyplot as plt\n",
    "%matplotlib inline\n",
    "from sklearn.cluster import KMeans\n",
    "from numpy.linalg import inv, det, norm\n",
    "from math import sqrt, pi\n",
    "from functools import partial\n",
    "#from scipy.spatial.distance import dice"
   ]
  },
  {
   "cell_type": "code",
   "execution_count": 2,
   "metadata": {},
   "outputs": [],
   "source": [
    "use_atlas = 'mni'\n",
    "max_intens = 999\n",
    "\n",
    "# Key the labels already in the files\n",
    "CSF_label = 1\n",
    "GM_label = 3\n",
    "WM_label = 2"
   ]
  },
  {
   "cell_type": "code",
   "execution_count": 3,
   "metadata": {},
   "outputs": [],
   "source": [
    "# Normalize array from 0 to max_intens\n",
    "def normalize(target_array, max_intens=255):\n",
    "    target_array -= target_array.min()\n",
    "    normalized_array = max_intens * np.divide(target_array, target_array.max())\n",
    "    return normalized_array.astype(int)\n",
    "\n",
    "def show_slice(img, slice_no):\n",
    "    \"\"\"\n",
    "        Inputs: img (nibabel): image name\n",
    "                slice_no (np slice): np.s_[:, :, 30]\n",
    "        \"\"\"\n",
    "    data = img.get_fdata()\n",
    "    plt.figure()\n",
    "    plt.imshow(data[slice_no].T, cmap='gray')\n",
    "    plt.show()\n",
    "    \n",
    "def show_slice_data(data, slice_no):\n",
    "    plt.imshow(data[slice_no], cmap = \"gray\")\n",
    "    plt.show()\n",
    "\n",
    "# Read nii from path and normalize array from 0 to 1\n",
    "def read_im(image_path):\n",
    "    nii_img = nib.load(image_path)\n",
    "    nii_data = nii_img.get_data()\n",
    "    return nii_data, nii_img\n",
    "\n",
    "def calc_dice(segmented_images, groundtruth_images):\n",
    "    segData = segmented_images + groundtruth_images\n",
    "    TP_value = np.amax(segmented_images) + np.amax(groundtruth_images)\n",
    "    TP = (segData == TP_value).sum()  # found a true positive: segmentation result and groundtruth match(both are positive)\n",
    "    segData_FP = 2. * segmented_images + groundtruth_images\n",
    "    segData_FN = segmented_images + 2. * groundtruth_images\n",
    "    FP = (segData_FP == 2 * np.amax(segmented_images)).sum() # found a false positive: segmentation result and groundtruth mismatch\n",
    "    FN = (segData_FN == 2 * np.amax(groundtruth_images)).sum() # found a false negative: segmentation result and groundtruth mismatch\n",
    "    return 2*TP/(2*TP+FP+FN)  # according to the definition of DICE similarity score\n",
    "\n",
    "def dice_similarity(segmented_img, groundtruth_img):\n",
    "    \"\"\"\n",
    "    Extract binary label images for regions.\n",
    "        Inputs: segmented_img (nibabel): segmented labels nii file\n",
    "                groundtruth_img (nibabel): groundtruth labels nii file\n",
    "        Returns: DICE_index (float): Dice similarity score between the two images (nii files)        \n",
    "    \"\"\"\n",
    "    \n",
    "    segmented_data = segmented_img.get_data().copy()\n",
    "    groundtruth_data = groundtruth_img.get_data().copy()\n",
    "    seg_CSF = (segmented_data == CSF_label) * 1\n",
    "    gt_CSF = (groundtruth_data == CSF_label) * 1\n",
    "    seg_GM = (segmented_data == GM_label) * 1\n",
    "    gt_GM = (groundtruth_data == GM_label) * 1\n",
    "    seg_WM = (segmented_data == WM_label) * 1\n",
    "    gt_WM = (groundtruth_data == WM_label) * 1\n",
    "    \n",
    "    dice_CSF = calc_dice(seg_CSF, gt_CSF)\n",
    "    dice_GM = calc_dice(seg_GM, gt_GM)\n",
    "    dice_WM = calc_dice(seg_WM, gt_WM)\n",
    "    \n",
    "    \n",
    "    return dice_CSF, dice_GM, dice_WM"
   ]
  },
  {
   "cell_type": "code",
   "execution_count": 4,
   "metadata": {},
   "outputs": [],
   "source": [
    "# Path to test image\n",
    "test_im_path = \"./test-set/testing-images/\"\n",
    "gt_path = \"./test-set/testing-labels/\"\n",
    "mask_path = \"./test-set/testing-mask/\"\n",
    "train_labels_path = \"./training-set/training-labels/\"\n",
    "train_im_path = \"./training-set/training-images/\"\n",
    "\n",
    "if use_atlas == 'our':\n",
    "    # Path to test image folder\n",
    "    template_path = \"./test-set/registration-results/our_templates/\"\n",
    "    atlas_path = \"./test-set/registration-results/our_atlases/\"\n",
    "    result_path = \"./test-set/segmentation-results/our-atlas-hist-segmentation/\"\n",
    "    out_dice_path = './dice-results/our_atlas_hist_dice.csv'\n",
    "    \n",
    "elif use_atlas == 'mni':\n",
    "    # Path to test image folder\n",
    "    template_path = \"./test-set/registration-results/mni_templates/\"\n",
    "    atlas_path = \"./test-set/registration-results/mni_atlases/\"\n",
    "    result_path = \"./test-set/segmentation-results/mni-atlas-hist-segmentation/\"\n",
    "    out_dice_path = './dice-results/mni_atlas_hist_dice.csv'\n",
    "else:\n",
    "    raise ValueError(\"our_atlas values should be either mni' or 'our'\")"
   ]
  },
  {
   "cell_type": "markdown",
   "metadata": {},
   "source": [
    "## Make histogram for each tissue type"
   ]
  },
  {
   "cell_type": "code",
   "execution_count": 5,
   "metadata": {},
   "outputs": [],
   "source": [
    "im_names = [f[:-7] for f in listdir(train_im_path) if \"nii.gz\" in f]\n",
    "\n",
    "# # Initialize arrays to hold intensity values \n",
    "# CSF_intensities, WM_intensities, GM_intensities\n",
    "for i, f in enumerate(im_names):\n",
    "    # Load all data for histogram\n",
    "    test_data, test_img = read_im(join(train_im_path,f+'.nii.gz'))\n",
    "    test_data = normalize(test_data, max_intens)\n",
    "    labels_data, labels_img = read_im(join(train_labels_path,f+'_3C.nii.gz'))\n",
    "\n",
    "    if i == 0:\n",
    "        # Initialize arrays to hold intensity values \n",
    "        CSF_intensities = test_data[labels_data == CSF_label]\n",
    "        WM_intensities = test_data[labels_data == WM_label]\n",
    "        GM_intensities = test_data[labels_data == GM_label]\n",
    "    else:    \n",
    "        CSF_intensities = np.append(CSF_intensities, test_data[labels_data == CSF_label])\n",
    "        WM_intensities = np.append(WM_intensities, test_data[labels_data == WM_label])\n",
    "        GM_intensities = np.append(GM_intensities, test_data[labels_data == GM_label])\n",
    "\n",
    "# get histograms\n",
    "bins = tuple(range(0, max_intens+1))\n",
    "CSF_hist, _ = np.histogram(CSF_intensities, bins, density=True)\n",
    "GM_hist, _ = np.histogram(GM_intensities, bins, density=True)\n",
    "WM_hist, _ = np.histogram(WM_intensities, bins, density=True)\n",
    "bins = bins[:-1]"
   ]
  },
  {
   "cell_type": "code",
   "execution_count": 6,
   "metadata": {},
   "outputs": [
    {
     "data": {
      "image/png": "[encoded data removed]",
      "text/plain": [
       "<Figure size 432x288 with 1 Axes>"
      ]
     },
     "metadata": {},
     "output_type": "display_data"
    },
    {
     "data": {
      "image/png": "[encoded data removed]",
      "text/plain": [
       "<Figure size 432x288 with 1 Axes>"
      ]
     },
     "metadata": {},
     "output_type": "display_data"
    },
    {
     "data": {
      "image/png": "[encoded data removed]",
      "text/plain": [
       "<Figure size 432x288 with 1 Axes>"
      ]
     },
     "metadata": {},
     "output_type": "display_data"
    }
   ],
   "source": [
    "# plot histograms\n",
    "plt.plot(bins, CSF_hist)\n",
    "plt.title(\"CSF Histogram\")\n",
    "plt.show()\n",
    "\n",
    "plt.plot(bins, GM_hist)\n",
    "plt.title(\"GM Histogram\")\n",
    "plt.show()\n",
    "\n",
    "plt.plot(bins, WM_hist)\n",
    "plt.title(\"WM Histogram\")\n",
    "plt.show()"
   ]
  },
  {
   "cell_type": "code",
   "execution_count": 7,
   "metadata": {},
   "outputs": [],
   "source": [
    "def get_hist_probs(img, hist):\n",
    "    \"\"\"Returns probability values for an image based on a given histogram.\n",
    "    \n",
    "    Parameters:\n",
    "        img (np.ndarray): input image.\n",
    "        hist (np.ndarray): histogram.\n",
    "    \n",
    "    Returns:\n",
    "        out_prob (np.ndarray): propability image.\n",
    "    \"\"\"\n",
    "    out_prob = np.zeros_like(img, dtype='float')\n",
    "    # we assume that intensity values and indices of bins correspond\n",
    "    for intens_val in np.nditer(np.nonzero(hist)):\n",
    "        out_prob[img == intens_val] = hist[intens_val]\n",
    "    \n",
    "    return out_prob"
   ]
  },
  {
   "cell_type": "markdown",
   "metadata": {},
   "source": [
    "## Combine Altlas and Histogram Information for Segmentation"
   ]
  },
  {
   "cell_type": "code",
   "execution_count": 8,
   "metadata": {},
   "outputs": [
    {
     "name": "stdout",
     "output_type": "stream",
     "text": [
      "[[0.92957539 0.74315853 0.87091927]\n",
      " [0.64713343 0.79719553 0.87965188]\n",
      " [0.7791162  0.74670768 0.84538043]\n",
      " [0.91418334 0.71954422 0.83575205]\n",
      " [0.87842365 0.67389358 0.79820432]\n",
      " [0.81203122 0.78234362 0.87376512]\n",
      " [0.85503523 0.76472271 0.87531826]\n",
      " [0.75197118 0.78258377 0.85764778]\n",
      " [0.66709503 0.76949915 0.85302563]\n",
      " [0.81606549 0.78506983 0.87952346]\n",
      " [0.69380168 0.76019248 0.86773718]\n",
      " [0.82328836 0.77562629 0.87389346]\n",
      " [0.89082114 0.72155107 0.8499561 ]\n",
      " [0.82920019 0.79833586 0.82958416]\n",
      " [0.83334351 0.69808035 0.81914145]\n",
      " [0.88235294 0.75186375 0.82697984]\n",
      " [0.81224617 0.72882252 0.8285719 ]\n",
      " [0.92240762 0.76717012 0.85046209]\n",
      " [0.76627469 0.77093132 0.8714622 ]\n",
      " [0.65461167 0.77575729 0.8809873 ]]\n"
     ]
    }
   ],
   "source": [
    "onlydirs = [f for f in listdir(template_path) if isdir(join(template_path, f))]\n",
    "\n",
    "all_dice = np.zeros((len(onlydirs),3))\n",
    "\n",
    "for i, f in enumerate(onlydirs):\n",
    "    test_data, _ = read_im(join(test_im_path,f+'.nii.gz'))\n",
    "    test_data = normalize(test_data, max_intens)\n",
    "\n",
    "    _, template_img = read_im(join(template_path,f,'result.1.nii'))\n",
    "    GM_atlas, _ = read_im(join(atlas_path, f,'gm','result.nii.gz'))\n",
    "    WM_atlas, _ = read_im(join(atlas_path, f,'wm','result.nii.gz'))\n",
    "    CSF_atlas, _ = read_im(join(atlas_path, f,'csf','result.nii.gz'))\n",
    "\n",
    "    # Incorporate historgram from above\n",
    "    # compute probabilities based on intensity histograms\n",
    "    GM_hist_prob = get_hist_probs(test_data, GM_hist)\n",
    "    WM_hist_prob = get_hist_probs(test_data, WM_hist)\n",
    "    CSF_hist_prob = get_hist_probs(test_data, CSF_hist)\n",
    "\n",
    "    # combine those probabilities\n",
    "    GM_atlas *= GM_hist_prob\n",
    "    WM_atlas *= WM_hist_prob\n",
    "    CSF_atlas *= CSF_hist_prob\n",
    "\n",
    "    # Assign GM, WM, CSF to voxel with highest probability\n",
    "    GM = GM_label * np.nan_to_num((GM_atlas > CSF_atlas) * (GM_atlas > WM_atlas))\n",
    "    WM = WM_label * np.nan_to_num((WM_atlas > CSF_atlas) * (WM_atlas > GM_atlas))\n",
    "    CSF = CSF_label * np.nan_to_num((CSF_atlas > WM_atlas) * (CSF_atlas > GM_atlas))\n",
    "    seg_im = GM + WM + CSF\n",
    "    segmented_img = nib.Nifti1Image(seg_im, template_img.affine, template_img.header)\n",
    "\n",
    "    # Calculate DICE\n",
    "    path_gt = join(gt_path,f+\"_3C.nii.gz\")\n",
    "    _, groundtruth_img = read_im(path_gt)\n",
    "    all_dice[i,0], all_dice[i,1], all_dice[i,2] = dice_similarity(segmented_img, groundtruth_img)\n",
    "\n",
    "    # Make directory to save result seg\n",
    "    new_dir = join(result_path,f)\n",
    "    os.mkdir(new_dir)\n",
    "    nib.save(segmented_img, join(new_dir,'atlas_hist_seg.nii.gz'))\n",
    "\n",
    "print(all_dice)"
   ]
  },
  {
   "cell_type": "code",
   "execution_count": 9,
   "metadata": {},
   "outputs": [],
   "source": [
    "with open(out_dice_path, 'w+') as out_f:\n",
    "    out_f.write('img,csf,gm,wm,\\n')\n",
    "    for index, row in enumerate(all_dice): \n",
    "        out_f.write(onlydirs[index] + ',' + ','.join(str(j) for j in row) + ',\\n')"
   ]
  },
  {
   "cell_type": "code",
   "execution_count": null,
   "metadata": {},
   "outputs": [],
   "source": []
  }
 ],
 "metadata": {
  "kernelspec": {
   "display_name": "Python 3",
   "language": "python",
   "name": "python3"
  },
  "language_info": {
   "codemirror_mode": {
    "name": "ipython",
    "version": 3
   },
   "file_extension": ".py",
   "mimetype": "text/x-python",
   "name": "python",
   "nbconvert_exporter": "python",
   "pygments_lexer": "ipython3",
   "version": "3.6.5"
  }
 },
 "nbformat": 4,
 "nbformat_minor": 2
}
